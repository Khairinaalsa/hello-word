{
 "cells": [
  {
   "cell_type": "code",
   "execution_count": 1,
   "id": "527bdac7",
   "metadata": {},
   "outputs": [],
   "source": [
    "import pandas as pd"
   ]
  },
  {
   "cell_type": "code",
   "execution_count": 2,
   "id": "ee9f2f1f",
   "metadata": {},
   "outputs": [
    {
     "name": "stdout",
     "output_type": "stream",
     "text": [
      "        order_id  voucher_amount                   date_time  eta_seconds  \\\n",
      "0     FOOD-10455               0  2018-08-12T20:35:08.001006         1800   \n",
      "1     FOOD-10985               0  2018-09-23T17:44:12.243273         2173   \n",
      "2     FOOD-10911               0  2018-09-19T18:08:09.387991         1418   \n",
      "3     FOOD-10932               0  2018-09-21T01:24:35.272499         1903   \n",
      "4     FOOD-10961               0  2018-09-22T17:57:45.523161         1716   \n",
      "...          ...             ...                         ...          ...   \n",
      "1071  FOOD-10921               0  2018-09-20T15:01:52.152828          900   \n",
      "1072  FOOD-10265            5000  2018-07-26T14:43:23.655294         1579   \n",
      "1073  FOOD-10534               0  2018-08-21T20:10:59.283185         2606   \n",
      "1074  FOOD-10158               0  2018-07-16T14:42:23.214427         2428   \n",
      "1075  FOOD-10770               0  2018-09-11T14:18:19.494258         1547   \n",
      "\n",
      "      food_price  cust_id  rating  delivery_fee   resto_id     status  \\\n",
      "0          18900  1089034     5.0          4000  742638033  Completed   \n",
      "1         149000   180146     5.0         11000  742767245  Completed   \n",
      "2          43800   366528     NaN          9000  742618303  Completed   \n",
      "3          39900   511038     5.0         14000  742541172  Completed   \n",
      "4          77700  1220358     NaN          4000  742604875  Completed   \n",
      "...          ...      ...     ...           ...        ...        ...   \n",
      "1071      103200  1296335     5.0          4000  742742150  Completed   \n",
      "1072      145700  1135466     5.0          7000  742566851  Completed   \n",
      "1073      177200  1383625     NaN         15000  742571888  Completed   \n",
      "1074       49300  1094787     5.0          9000  742725064  Completed   \n",
      "1075       43000  1010922     5.0          9000  742594499  Completed   \n",
      "\n",
      "      random_id  \n",
      "0      0.511149  \n",
      "1      0.832936  \n",
      "2      0.828026  \n",
      "3      0.239377  \n",
      "4      0.995587  \n",
      "...         ...  \n",
      "1071   0.248328  \n",
      "1072   0.268251  \n",
      "1073   0.132528  \n",
      "1074   0.167946  \n",
      "1075   0.358051  \n",
      "\n",
      "[1076 rows x 11 columns]\n"
     ]
    }
   ],
   "source": [
    "data = pd.read_csv(r'D:/food_delivery_datasets.csv')\n",
    "print(data)"
   ]
  },
  {
   "cell_type": "code",
   "execution_count": 3,
   "id": "6c1822a3",
   "metadata": {},
   "outputs": [
    {
     "data": {
      "text/plain": [
       "voucher_amount\n",
       "0        914\n",
       "2000       6\n",
       "3000      14\n",
       "4000      15\n",
       "5000      81\n",
       "6000       4\n",
       "7000       1\n",
       "8000       2\n",
       "9000       2\n",
       "10000     10\n",
       "12000      1\n",
       "15000     18\n",
       "16500      2\n",
       "20000      3\n",
       "25000      3\n",
       "Name: voucher_amount, dtype: int64"
      ]
     },
     "execution_count": 3,
     "metadata": {},
     "output_type": "execute_result"
    }
   ],
   "source": [
    "p=data.groupby('voucher_amount')\n",
    "p['voucher_amount'].count()"
   ]
  },
  {
   "cell_type": "code",
   "execution_count": null,
   "id": "2890f608",
   "metadata": {},
   "outputs": [],
   "source": []
  }
 ],
 "metadata": {
  "kernelspec": {
   "display_name": "Python 3",
   "language": "python",
   "name": "python3"
  },
  "language_info": {
   "codemirror_mode": {
    "name": "ipython",
    "version": 3
   },
   "file_extension": ".py",
   "mimetype": "text/x-python",
   "name": "python",
   "nbconvert_exporter": "python",
   "pygments_lexer": "ipython3",
   "version": "3.8.8"
  }
 },
 "nbformat": 4,
 "nbformat_minor": 5
}
